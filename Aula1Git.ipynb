{
  "nbformat": 4,
  "nbformat_minor": 0,
  "metadata": {
    "colab": {
      "provenance": [],
      "authorship_tag": "ABX9TyNo3gu/9cDvhn56O6QkzmC0",
      "include_colab_link": true
    },
    "kernelspec": {
      "name": "python3",
      "display_name": "Python 3"
    },
    "language_info": {
      "name": "python"
    }
  },
  "cells": [
    {
      "cell_type": "markdown",
      "metadata": {
        "id": "view-in-github",
        "colab_type": "text"
      },
      "source": [
        "<a href=\"https://colab.research.google.com/github/helogaspar/Meu-repositorio/blob/main/Aula1Git.ipynb\" target=\"_parent\"><img src=\"https://colab.research.google.com/assets/colab-badge.svg\" alt=\"Open In Colab\"/></a>"
      ]
    },
    {
      "cell_type": "code",
      "execution_count": 2,
      "metadata": {
        "colab": {
          "base_uri": "https://localhost:8080/"
        },
        "id": "7rEjMd2o1aEG",
        "outputId": "6fd66eb1-992c-4e34-9a42-7bf600fd5724"
      },
      "outputs": [
        {
          "output_type": "stream",
          "name": "stdout",
          "text": [
            "Digite o valor: 5\n",
            "Digite o valor: 3\n",
            "Resultado:  8.0\n"
          ]
        }
      ],
      "source": [
        "#como fazer um calculo utilizando input\n",
        "n1 = float(input(\"Digite o valor: \"))\n",
        "n2 = float(input(\"Digite o valor: \"))\n",
        "soma = n1 + n2\n",
        "print(\"Resultado: \", soma)\n",
        "\n",
        "#Escreva um programa que peça ao usuário para inserir seu nome e depois imprima uma mensagem de saudação usando o nome fornecido:\n",
        "nome = input(\"Digite seu nome: \")\n",
        "#print(\"Olá,\", nome, \"!\")\n",
        "print(\"Olá %s !\" % (nome))"
      ]
    }
  ]
}